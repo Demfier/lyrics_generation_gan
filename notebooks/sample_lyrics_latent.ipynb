{
 "cells": [
  {
   "cell_type": "code",
   "execution_count": 1,
   "metadata": {},
   "outputs": [],
   "source": [
    "import os\n",
    "os.chdir('..')"
   ]
  },
  {
   "cell_type": "code",
   "execution_count": 2,
   "metadata": {},
   "outputs": [
    {
     "ename": "ModuleNotFoundError",
     "evalue": "No module named 'allennlp'",
     "output_type": "error",
     "traceback": [
      "\u001b[0;31m---------------------------------------------------------------------------\u001b[0m",
      "\u001b[0;31mModuleNotFoundError\u001b[0m                       Traceback (most recent call last)",
      "\u001b[0;32m<ipython-input-2-6c26f3dc37a9>\u001b[0m in \u001b[0;36m<module>\u001b[0;34m\u001b[0m\n\u001b[0;32m----> 1\u001b[0;31m \u001b[0;32mfrom\u001b[0m \u001b[0mallennlp\u001b[0m\u001b[0;34m.\u001b[0m\u001b[0mmodels\u001b[0m\u001b[0;34m.\u001b[0m\u001b[0marchival\u001b[0m \u001b[0;32mimport\u001b[0m \u001b[0mload_archive\u001b[0m\u001b[0;34m\u001b[0m\u001b[0;34m\u001b[0m\u001b[0m\n\u001b[0m\u001b[1;32m      2\u001b[0m \u001b[0;32mfrom\u001b[0m \u001b[0msrc\u001b[0m\u001b[0;34m.\u001b[0m\u001b[0mmodels\u001b[0m\u001b[0;34m.\u001b[0m\u001b[0mvae\u001b[0m \u001b[0;32mimport\u001b[0m \u001b[0mVAE\u001b[0m\u001b[0;34m\u001b[0m\u001b[0;34m\u001b[0m\u001b[0m\n\u001b[1;32m      3\u001b[0m \u001b[0;32mfrom\u001b[0m \u001b[0msrc\u001b[0m\u001b[0;34m.\u001b[0m\u001b[0mmodels\u001b[0m\u001b[0;34m.\u001b[0m\u001b[0mlyrics_generator\u001b[0m \u001b[0;32mimport\u001b[0m \u001b[0mDialogGenerator\u001b[0m\u001b[0;34m\u001b[0m\u001b[0;34m\u001b[0m\u001b[0m\n\u001b[1;32m      4\u001b[0m \u001b[0;32mfrom\u001b[0m \u001b[0msrc\u001b[0m\u001b[0;34m.\u001b[0m\u001b[0mmodels\u001b[0m\u001b[0;34m.\u001b[0m\u001b[0mlyrics_discriminator\u001b[0m \u001b[0;32mimport\u001b[0m \u001b[0mDialogDiscriminator\u001b[0m\u001b[0;34m\u001b[0m\u001b[0;34m\u001b[0m\u001b[0m\n\u001b[1;32m      5\u001b[0m \u001b[0;32mfrom\u001b[0m \u001b[0msrc\u001b[0m\u001b[0;34m.\u001b[0m\u001b[0mmodels\u001b[0m\u001b[0;34m.\u001b[0m\u001b[0mlyrics_gan\u001b[0m \u001b[0;32mimport\u001b[0m \u001b[0mDialogGan\u001b[0m\u001b[0;34m\u001b[0m\u001b[0;34m\u001b[0m\u001b[0m\n",
      "\u001b[0;31mModuleNotFoundError\u001b[0m: No module named 'allennlp'"
     ]
    }
   ],
   "source": [
    "from allennlp.models.archival import load_archive\n",
    "from src.models.vae import VAE\n",
    "from src.models.lyrics_generator import DialogGenerator\n",
    "from src.models.lyrics_discriminator import DialogDiscriminator\n",
    "from src.models.lyrics_gan import DialogGan\n",
    "from src.modules.encoders import VariationalEncoder\n",
    "from src.modules.decoders.variational_decoder import VariationalDecoder\n",
    "\n",
    "archive = load_archive('models/lyrics_gan_mse/model.tar.gz')\n",
    "model = archive.model\n",
    "model.eval()"
   ]
  },
  {
   "cell_type": "code",
   "execution_count": null,
   "metadata": {},
   "outputs": [],
   "source": [
    "import random\n",
    "from typing import Iterable\n",
    "from allennlp.data.instance import Instance\n",
    "import logging\n",
    "logger = logging.getLogger(__name__)\n",
    "\n",
    "\n",
    "class LyricsLatentGen(object):\n",
    "    \"\"\"\n",
    "    This class handles predicting latent code\n",
    "    \"\"\"\n",
    "    def __init__(self,\n",
    "                 validation_data: Iterable[Instance],\n",
    "                 num_replies: int = 1,\n",
    "                 num_samples: int = 1):\n",
    "        self.instances = validation_data\n",
    "        self.num_samples = len(validation_data)\n",
    "        self.num_replies = num_replies\n",
    "\n",
    "    def _display_dialog(self, decoder, instance, output_dict):\n",
    "        query_tokens = [str(token) for token in instance['source_tokens']]\n",
    "        response_tokens = [str(token) for token in instance['target_tokens']]\n",
    "        predicted_sentences = output_dict[\"predicted_sentences\"]\n",
    "#         prediction = random.choice(predicted_sentences)\n",
    "#         query = ' '.join(query_tokens[1:-1])\n",
    "#         response = ' '.join(response_tokens[1:-1])\n",
    "#         print(f'{query} -> {prediction} <-> ####[{response}]####')\n",
    "        return predicted_sentences\n",
    "\n",
    "    def generate_sample(self, model):\n",
    "        sample_instances = random.sample(self.instances, self.num_samples)\n",
    "        output_dicts = model.forward_on_instances(sample_instances)\n",
    "        print(output_dicts['responses'].shape)\n",
    "        return predictions_list"
   ]
  },
  {
   "cell_type": "code",
   "execution_count": null,
   "metadata": {},
   "outputs": [],
   "source": [
    "from allennlp.data.iterators import HomogeneousBatchIterator\n",
    "from allennlp.data.vocabulary import Vocabulary\n",
    "from allennlp.common.params import Params\n",
    "from src.data.dataset import LyricsGanDatasetReader\n",
    "\n",
    "\n",
    "reader = DialogGanDatasetReader()\n",
    "valid_ds = reader.read('data/processed/valid_data.pkl')"
   ]
  },
  {
   "cell_type": "code",
   "execution_count": null,
   "metadata": {},
   "outputs": [],
   "source": [
    "generated_sentences = []\n",
    "for i in range(len(valid_ds)):\n",
    "    dsampler = LyricsLatentGen([valid_ds[i]])\n",
    "    generated_sentences += dsampler.generate_sample(model)"
   ]
  }
 ],
 "metadata": {
  "kernelspec": {
   "display_name": "Python 3",
   "language": "python",
   "name": "python3"
  },
  "language_info": {
   "codemirror_mode": {
    "name": "ipython",
    "version": 3
   },
   "file_extension": ".py",
   "mimetype": "text/x-python",
   "name": "python",
   "nbconvert_exporter": "python",
   "pygments_lexer": "ipython3",
   "version": "3.8.5"
  }
 },
 "nbformat": 4,
 "nbformat_minor": 4
}
