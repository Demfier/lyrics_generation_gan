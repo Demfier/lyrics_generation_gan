{
 "cells": [
  {
   "cell_type": "code",
   "execution_count": 1,
   "metadata": {},
   "outputs": [],
   "source": [
    "import os\n",
    "os.chdir('..')"
   ]
  },
  {
   "cell_type": "code",
   "execution_count": 2,
   "metadata": {},
   "outputs": [
    {
     "data": {
      "text/plain": [
       "LyricsGan(\n",
       "  (generator): LyricsGenerator(\n",
       "    (_latent_mapper): Sequential(\n",
       "      (0): Linear(in_features=128, out_features=256, bias=True)\n",
       "      (1): BatchNorm1d(256, eps=1e-05, momentum=0.1, affine=True, track_running_stats=True)\n",
       "      (2): ReLU()\n",
       "      (3): Linear(in_features=256, out_features=256, bias=True)\n",
       "      (4): BatchNorm1d(256, eps=1e-05, momentum=0.1, affine=True, track_running_stats=True)\n",
       "      (5): ReLU()\n",
       "      (6): Linear(in_features=256, out_features=128, bias=True)\n",
       "    )\n",
       "    (_ce_loss): BCEWithLogitsLoss()\n",
       "  )\n",
       "  (discriminator): LyricsDiscriminator(\n",
       "    (_activation): LeakyReLU(negative_slope=0.2)\n",
       "    (_classifier): Sequential(\n",
       "      (0): Linear(in_features=256, out_features=128, bias=True)\n",
       "      (1): BatchNorm1d(128, eps=1e-05, momentum=0.1, affine=True, track_running_stats=True)\n",
       "      (2): LeakyReLU(negative_slope=0.2)\n",
       "      (3): Linear(in_features=128, out_features=128, bias=True)\n",
       "      (4): BatchNorm1d(128, eps=1e-05, momentum=0.1, affine=True, track_running_stats=True)\n",
       "      (5): LeakyReLU(negative_slope=0.2)\n",
       "      (6): Linear(in_features=128, out_features=1, bias=True)\n",
       "    )\n",
       "    (_loss): BCEWithLogitsLoss()\n",
       "  )\n",
       ")"
      ]
     },
     "execution_count": 2,
     "metadata": {},
     "output_type": "execute_result"
    }
   ],
   "source": [
    "from allennlp.models.archival import load_archive\n",
    "from src.models.vae import VAE\n",
    "from src.models.lyrics_generator import LyricsGenerator\n",
    "from src.models.lyrics_discriminator import LyricsDiscriminator\n",
    "from src.models.lyrics_gan import LyricsGan\n",
    "from src.modules.encoders import VariationalEncoder\n",
    "from src.modules.decoders.variational_decoder import VariationalDecoder\n",
    "\n",
    "archive = load_archive('models/lyrics_gan_mse_with_spec_id/model.tar.gz')\n",
    "model = archive.model\n",
    "model.eval()"
   ]
  },
  {
   "cell_type": "code",
   "execution_count": 6,
   "metadata": {
    "scrolled": true
   },
   "outputs": [
    {
     "name": "stdout",
     "output_type": "stream",
     "text": [
      "dict_keys(['spec_id', 'z'])\n"
     ]
    },
    {
     "data": {
      "text/plain": [
       "808"
      ]
     },
     "execution_count": 6,
     "metadata": {},
     "output_type": "execute_result"
    }
   ],
   "source": [
    "import random\n",
    "from typing import Iterable\n",
    "from allennlp.data.instance import Instance\n",
    "import logging\n",
    "logger = logging.getLogger(__name__)\n",
    "import torch\n",
    "\n",
    "class LyricsLatentGen(object):\n",
    "    \"\"\"\n",
    "    This class handles predicting latent code\n",
    "    \"\"\"\n",
    "    def __init__(self,\n",
    "                 validation_data: Iterable[Instance],\n",
    "                 num_replies: int = 1,\n",
    "                 num_samples: int = 1):\n",
    "        self.instances = validation_data\n",
    "        self.num_samples = len(validation_data)\n",
    "        self.num_replies = num_replies\n",
    "\n",
    "    def generate_sample(self, model):\n",
    "        sample_instances = random.sample(self.instances, self.num_samples)\n",
    "        for sample in sample_instances:\n",
    "            model_input = {'source_mu': torch.from_numpy(sample['spec_mu']),\n",
    "                           'source_std': torch.from_numpy(sample['spec_std']),\n",
    "                           'target_mu': torch.from_numpy(sample['lyrics_mu']),\n",
    "                           'stage': ['generator']}\n",
    "            predicted_latent = model.decode(model.forward(**model_input))\n",
    "            yield {'spec_id': sample['spec_id'], 'z': predicted_latent}\n",
    "    \n",
    "from allennlp.data.iterators import HomogeneousBatchIterator\n",
    "from allennlp.data.vocabulary import Vocabulary\n",
    "from allennlp.common.params import Params\n",
    "from src.data.dataset import LyricsGanDatasetReader\n",
    "import pickle\n",
    "\n",
    "valid_ds = pickle.load(open('data/processed/test_data.pkl', 'rb'))\n",
    "\n",
    "predicted_latents = []\n",
    "dsampler = LyricsLatentGen(valid_ds)\n",
    "predicted_latents += dsampler.generate_sample(model)\n",
    "print(predicted_latents[0].keys())\n",
    "len(predicted_latents)"
   ]
  },
  {
   "cell_type": "code",
   "execution_count": 7,
   "metadata": {},
   "outputs": [],
   "source": [
    "with open('data/outputs/lyrics_latent_test.pkl', 'wb') as f:\n",
    "    pickle.dump(predicted_latents, f)"
   ]
  }
 ],
 "metadata": {
  "kernelspec": {
   "display_name": "Python 3",
   "language": "python",
   "name": "python3"
  },
  "language_info": {
   "codemirror_mode": {
    "name": "ipython",
    "version": 3
   },
   "file_extension": ".py",
   "mimetype": "text/x-python",
   "name": "python",
   "nbconvert_exporter": "python",
   "pygments_lexer": "ipython3",
   "version": "3.6.7"
  }
 },
 "nbformat": 4,
 "nbformat_minor": 4
}
